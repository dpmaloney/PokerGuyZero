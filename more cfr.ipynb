{
 "cells": [
  {
   "cell_type": "code",
   "execution_count": 2,
   "metadata": {},
   "outputs": [],
   "source": [
    "import os"
   ]
  },
  {
   "cell_type": "code",
   "execution_count": 52,
   "metadata": {},
   "outputs": [],
   "source": [
    "import numpy as np\n",
    "rock, paper, scissors = 0,1,2\n",
    "regrets = np.array([0.0, 0.0, 0.0])\n",
    "strategysum = np.array([0.0, 0.0, 0.0])\n",
    "oppStrat = np.array([.3, .3, .3])\n",
    "import random"
   ]
  },
  {
   "cell_type": "code",
   "execution_count": 53,
   "metadata": {},
   "outputs": [],
   "source": [
    "def getStrategy():\n",
    "    strategy = np.zeros(3)\n",
    "    normalizingSum = 0\n",
    "    for i in range(3):\n",
    "        if regrets[i] >0:\n",
    "            strategy[i] = regrets[i]\n",
    "        else:\n",
    "            strategy[i] = 0\n",
    "        normalizingSum += strategy[i]\n",
    "    \n",
    "    for i in range(3):\n",
    "        if normalizingSum > 0:\n",
    "            strategy[i] /= normalizingSum\n",
    "        else:\n",
    "            strategy[i] = 1/3\n",
    "        strategysum[i] += strategy[i]\n",
    "    \n",
    "    return strategy\n",
    "        "
   ]
  },
  {
   "cell_type": "code",
   "execution_count": 54,
   "metadata": {},
   "outputs": [
    {
     "data": {
      "text/plain": [
       "1"
      ]
     },
     "execution_count": 54,
     "metadata": {},
     "output_type": "execute_result"
    }
   ],
   "source": [
    "def getAction(strategy):\n",
    "    \n",
    "    r = random.random()\n",
    "    cumulativeProb = 0\n",
    "    a = 0\n",
    "    while a < 2:\n",
    "        cumulativeProb += strategy[a]\n",
    "        if(r < cumulativeProb):\n",
    "            break\n",
    "        a+=1\n",
    "    \n",
    "    return a\n",
    "\n",
    "getAction(getStrategy())"
   ]
  },
  {
   "cell_type": "code",
   "execution_count": 55,
   "metadata": {},
   "outputs": [],
   "source": [
    "def train(iterations):\n",
    "    actionUtil = np.zeros(3)\n",
    "    for i in range(iterations):\n",
    "        \n",
    "        strategy = getStrategy()\n",
    "        action = getAction(strategy)\n",
    "        otherAction = getAction(oppStrat);\n",
    "        \n",
    "        \n",
    "        actionUtil[otherAction] = 0\n",
    "        if otherAction == 2:\n",
    "            actionUtil[0] = 1\n",
    "        else:\n",
    "            actionUtil[otherAction+1] = 1\n",
    "        \n",
    "        for i in range(3):\n",
    "            regrets[i] += actionUtil[i]-actionUtil[action]\n",
    "            \n",
    "        "
   ]
  },
  {
   "cell_type": "code",
   "execution_count": 56,
   "metadata": {},
   "outputs": [
    {
     "data": {
      "text/plain": [
       "array([9.99384066e-01, 5.01423557e-04, 1.14510760e-04])"
      ]
     },
     "execution_count": 56,
     "metadata": {},
     "output_type": "execute_result"
    }
   ],
   "source": [
    "def getAverageStrategy():\n",
    "    avgStrat = np.zeros(3)\n",
    "    normSum = 0\n",
    "    for i in range(3):\n",
    "        normSum += strategysum[i]\n",
    "        \n",
    "    for i in range (3):\n",
    "        if normSum > 0:\n",
    "            avgStrat[i] = strategysum[i]/normSum\n",
    "        else:\n",
    "            avgStrat[i] = 1/3\n",
    "            \n",
    "    return avgStrat\n",
    "\n",
    "train(100000)\n",
    "\n",
    "getAverageStrategy()"
   ]
  },
  {
   "cell_type": "code",
   "execution_count": null,
   "metadata": {},
   "outputs": [],
   "source": []
  },
  {
   "cell_type": "code",
   "execution_count": null,
   "metadata": {},
   "outputs": [],
   "source": []
  }
 ],
 "metadata": {
  "kernelspec": {
   "display_name": "Python 3",
   "language": "python",
   "name": "python3"
  },
  "language_info": {
   "codemirror_mode": {
    "name": "ipython",
    "version": 3
   },
   "file_extension": ".py",
   "mimetype": "text/x-python",
   "name": "python",
   "nbconvert_exporter": "python",
   "pygments_lexer": "ipython3",
   "version": "3.8.2"
  }
 },
 "nbformat": 4,
 "nbformat_minor": 4
}
