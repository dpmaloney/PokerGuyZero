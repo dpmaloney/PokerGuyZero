{
 "cells": [
  {
   "cell_type": "code",
   "execution_count": null,
   "metadata": {},
   "outputs": [],
   "source": [
    "#http://modelai.gettysburg.edu/2013/cfr/cfr.pdf\n",
    "#https://papers.nips.cc/paper/4569-efficient-monte-carlo-counterfactual-regret-minimization-in-games-with-many-player-actions.pdf\n",
    "#https://papers.nips.cc/paper/6671-safe-and-nested-subgame-solving-for-imperfect-information-games.pdf"
   ]
  },
  {
   "cell_type": "code",
   "execution_count": 4,
   "metadata": {},
   "outputs": [],
   "source": [
    "HANDS = [(1,2), (1,3), (2,1), (2,3), (3,1), (3,2)]\n",
    "\n",
    "ISETS = [\"1\", \"2\", \"3\", \"P1\", \"P2\", \"P3\", \"B1\", \"B2\", \"B3\", \"PB1\", \"PB2\", \"PB3\"]\n",
    "\n",
    "TERMINAL = [\"PP\", \"PBP\", \"PBB\", \"BP\", \"BB\"]\n",
    "ACTIONS = [\"P\", \"B\"]\n",
    "\n",
    "def payout(rs, h):\n",
    "  if h == \"PBP\":\n",
    "    return -1\n",
    "  elif h == \"BP\":\n",
    "    return 1\n",
    "  m = 1 if (rs[0] > rs[1]) else -1\n",
    "  if h == \"PP\":\n",
    "    return m\n",
    "  if h in [\"BB\", \"PBB\"]:\n",
    "    return m*2\n",
    "  assert False\n",
    "\n",
    "def get_information_set(rs, h):\n",
    "  assert h not in TERMINAL\n",
    "  if h == \"\":\n",
    "    return str(rs[0])\n",
    "  elif len(h) == 1:\n",
    "    return h + str(rs[1])\n",
    "  else:\n",
    "    return \"PB\" + str(rs[0])\n",
    "  assert False\n",
    "\n",
    "def cfr(rs, h, i, t, pi1, pi2):\n",
    "  # rs = realstate\n",
    "  # h = history\n",
    "  # i = player\n",
    "  # t = timestep\n",
    "  \n",
    "  if h in TERMINAL:\n",
    "    return payout(rs, h) * (1 if i == 1 else -1)\n",
    "  I = get_information_set(rs, h)\n",
    "  ph = 2 if len(h) == 1 else 1\n",
    "    \n",
    "  # if we are here, we have both actions available\n",
    "  vo = 0.0\n",
    "  voa = {}\n",
    "  for a in ACTIONS:\n",
    "    if ph == 1:\n",
    "      voa[a] = cfr(rs, h+a, i, t, sigma[t][I][a] * pi1, pi2)\n",
    "    else:\n",
    "      voa[a] = cfr(rs, h+a, i, t, pi1, sigma[t][I][a] * pi2)\n",
    "    vo += sigma[t][I][a] * voa[a]\n",
    "  if ph == i:\n",
    "    if i == 1:\n",
    "      pi = pi1\n",
    "      pnegi = pi2\n",
    "    else:\n",
    "      pi = pi2\n",
    "      pnegi = pi1\n",
    "    for a in ACTIONS:\n",
    "      regret[I][a] += pnegi * (voa[a] - vo)\n",
    "      strategy[I][a] += pi * sigma[t][I][a]\n",
    "    # update the strategy based on regret\n",
    "    rsum = sum([max(x, 0) for x in regret[I].values()])\n",
    "    for a in ACTIONS:\n",
    "      if rsum > 0:\n",
    "        sigma[t+1][I][a] = max(regret[I][a], 0) / rsum\n",
    "      else:\n",
    "        sigma[t+1][I][a] = 0.5\n",
    "  return vo"
   ]
  },
  {
   "cell_type": "code",
   "execution_count": 5,
   "metadata": {},
   "outputs": [],
   "source": [
    "regret = {}\n",
    "strategy = {}\n",
    "for I in ISETS:\n",
    "  regret[I] = {k:0 for k in ACTIONS}\n",
    "  strategy[I] = {k:0 for k in ACTIONS}\n",
    "  \n",
    "sigma = {}\n",
    "sigma[1] = {}\n",
    "for I in ISETS:\n",
    "  sigma[1][I] = {k:0.5 for k in ACTIONS}\n",
    "\n",
    "# learn strategy\n",
    "import copy\n",
    "import random\n",
    "for t in range(1, 200000):\n",
    "  sigma[t+1] = copy.deepcopy(sigma[t])\n",
    "  for i in [1,2]:\n",
    "    cfr(random.choice(HANDS), \"\", i, t, 1, 1)\n",
    "  del sigma[t]"
   ]
  },
  {
   "cell_type": "code",
   "execution_count": 6,
   "metadata": {},
   "outputs": [
    {
     "name": "stdout",
     "output_type": "stream",
     "text": [
      "  1: P:0.7075 B:0.2925\n",
      "  2: P:0.9998 B:0.0002\n",
      "  3: P:0.1037 B:0.8963\n",
      " P1: P:0.6608 B:0.3392\n",
      " P2: P:0.9999 B:0.0001\n",
      " P3: P:0.0000 B:1.0000\n",
      " B1: P:1.0000 B:0.0000\n",
      " B2: P:0.6569 B:0.3431\n",
      " B3: P:0.0000 B:1.0000\n",
      "PB1: P:1.0000 B:0.0000\n",
      "PB2: P:0.3656 B:0.6344\n",
      "PB3: P:0.0000 B:1.0000\n"
     ]
    }
   ],
   "source": [
    "for k,v in strategy.items():\n",
    "  norm = sum(list(v.values()))\n",
    "  print(\"%3s: P:%.4f B:%.4f\" % (k, v['P']/norm, v['B']/norm))"
   ]
  },
  {
   "cell_type": "code",
   "execution_count": null,
   "metadata": {},
   "outputs": [],
   "source": []
  }
 ],
 "metadata": {
  "kernelspec": {
   "display_name": "Python 3",
   "language": "python",
   "name": "python3"
  },
  "language_info": {
   "codemirror_mode": {
    "name": "ipython",
    "version": 3
   },
   "file_extension": ".py",
   "mimetype": "text/x-python",
   "name": "python",
   "nbconvert_exporter": "python",
   "pygments_lexer": "ipython3",
   "version": "3.8.2"
  }
 },
 "nbformat": 4,
 "nbformat_minor": 4
}
