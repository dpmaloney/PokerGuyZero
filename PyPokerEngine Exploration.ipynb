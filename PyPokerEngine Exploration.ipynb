{
 "cells": [
  {
   "cell_type": "code",
   "execution_count": 2,
   "metadata": {},
   "outputs": [],
   "source": [
    "import pypokerengine"
   ]
  },
  {
   "cell_type": "code",
   "execution_count": 3,
   "metadata": {},
   "outputs": [],
   "source": [
    "from pypokerengine.api.emulator import Emulator"
   ]
  },
  {
   "cell_type": "code",
   "execution_count": 7,
   "metadata": {},
   "outputs": [],
   "source": [
    "emulator = Emulator()\n",
    "emulator.set_game_rule(player_num=6, max_round=100, small_blind_amount=50, ante_amount=0)"
   ]
  },
  {
   "cell_type": "code",
   "execution_count": 16,
   "metadata": {},
   "outputs": [
    {
     "data": {
      "text/plain": [
       "[{'type': 'event_new_street',\n",
       "  'street': 'preflop',\n",
       "  'round_state': {'street': 'preflop',\n",
       "   'pot': {'main': {'amount': 150}, 'side': []},\n",
       "   'community_card': [],\n",
       "   'dealer_btn': 0,\n",
       "   'next_player': 3,\n",
       "   'small_blind_pos': 1,\n",
       "   'big_blind_pos': 2,\n",
       "   'round_count': 1,\n",
       "   'small_blind_amount': 50,\n",
       "   'seats': [{'name': 'player1',\n",
       "     'uuid': 'uuid-1',\n",
       "     'stack': 1000,\n",
       "     'state': 'participating'},\n",
       "    {'name': 'player2',\n",
       "     'uuid': 'uuid-2',\n",
       "     'stack': 950,\n",
       "     'state': 'participating'},\n",
       "    {'name': 'player3',\n",
       "     'uuid': 'uuid-3',\n",
       "     'stack': 900,\n",
       "     'state': 'participating'},\n",
       "    {'name': 'player4',\n",
       "     'uuid': 'uuid-4',\n",
       "     'stack': 1000,\n",
       "     'state': 'participating'},\n",
       "    {'name': 'player5',\n",
       "     'uuid': 'uuid-5',\n",
       "     'stack': 1000,\n",
       "     'state': 'participating'},\n",
       "    {'name': 'player6',\n",
       "     'uuid': 'uuid-6',\n",
       "     'stack': 1000,\n",
       "     'state': 'participating'}],\n",
       "   'action_histories': {'preflop': [{'action': 'SMALLBLIND',\n",
       "      'amount': 50,\n",
       "      'add_amount': 50,\n",
       "      'uuid': 'uuid-2'},\n",
       "     {'action': 'BIGBLIND',\n",
       "      'amount': 100,\n",
       "      'add_amount': 50,\n",
       "      'uuid': 'uuid-3'}]}}},\n",
       " {'type': 'event_ask_player',\n",
       "  'uuid': 'uuid-4',\n",
       "  'valid_actions': [{'action': 'fold', 'amount': 0},\n",
       "   {'action': 'call', 'amount': 100},\n",
       "   {'action': 'raise', 'amount': {'min': 150, 'max': 1000}}],\n",
       "  'round_state': {'street': 'preflop',\n",
       "   'pot': {'main': {'amount': 150}, 'side': []},\n",
       "   'community_card': [],\n",
       "   'dealer_btn': 0,\n",
       "   'next_player': 3,\n",
       "   'small_blind_pos': 1,\n",
       "   'big_blind_pos': 2,\n",
       "   'round_count': 1,\n",
       "   'small_blind_amount': 50,\n",
       "   'seats': [{'name': 'player1',\n",
       "     'uuid': 'uuid-1',\n",
       "     'stack': 1000,\n",
       "     'state': 'participating'},\n",
       "    {'name': 'player2',\n",
       "     'uuid': 'uuid-2',\n",
       "     'stack': 950,\n",
       "     'state': 'participating'},\n",
       "    {'name': 'player3',\n",
       "     'uuid': 'uuid-3',\n",
       "     'stack': 900,\n",
       "     'state': 'participating'},\n",
       "    {'name': 'player4',\n",
       "     'uuid': 'uuid-4',\n",
       "     'stack': 1000,\n",
       "     'state': 'participating'},\n",
       "    {'name': 'player5',\n",
       "     'uuid': 'uuid-5',\n",
       "     'stack': 1000,\n",
       "     'state': 'participating'},\n",
       "    {'name': 'player6',\n",
       "     'uuid': 'uuid-6',\n",
       "     'stack': 1000,\n",
       "     'state': 'participating'}],\n",
       "   'action_histories': {'preflop': [{'action': 'SMALLBLIND',\n",
       "      'amount': 50,\n",
       "      'add_amount': 50,\n",
       "      'uuid': 'uuid-2'},\n",
       "     {'action': 'BIGBLIND',\n",
       "      'amount': 100,\n",
       "      'add_amount': 50,\n",
       "      'uuid': 'uuid-3'}]}}}]"
      ]
     },
     "execution_count": 16,
     "metadata": {},
     "output_type": "execute_result"
    }
   ],
   "source": [
    "players_info = {\n",
    "    \"uuid-1\": { \"name\": \"player1\", \"stack\": 1000 },\n",
    "    \"uuid-2\": { \"name\": \"player2\", \"stack\": 1000 },\n",
    "    \"uuid-3\": { \"name\": \"player3\", \"stack\": 1000 },\n",
    "    \"uuid-4\": { \"name\": \"player4\", \"stack\": 1000 },\n",
    "    \"uuid-5\": { \"name\": \"player5\", \"stack\": 1000 },\n",
    "    \"uuid-6\": { \"name\": \"player6\", \"stack\": 1000 },\n",
    "}\n",
    "\n",
    "init_state = emulator.generate_initial_game_state(players_info)\n",
    "game_state, events = emulator.start_new_round(init_state)\n",
    "events"
   ]
  },
  {
   "cell_type": "code",
   "execution_count": 21,
   "metadata": {},
   "outputs": [
    {
     "data": {
      "text/plain": [
       "<pypokerengine.engine.table.Table at 0x27cd33f8b80>"
      ]
     },
     "execution_count": 21,
     "metadata": {},
     "output_type": "execute_result"
    }
   ],
   "source": [
    "game_state[\"table\"]\n"
   ]
  },
  {
   "cell_type": "code",
   "execution_count": 22,
   "metadata": {},
   "outputs": [
    {
     "data": {
      "text/plain": [
       "[{'action': 'fold', 'amount': 0},\n",
       " {'action': 'call', 'amount': 100},\n",
       " {'action': 'raise', 'amount': {'min': 150, 'max': 1000}}]"
      ]
     },
     "execution_count": 22,
     "metadata": {},
     "output_type": "execute_result"
    }
   ],
   "source": [
    "emulator.generate_possible_actions(game_state)"
   ]
  },
  {
   "cell_type": "code",
   "execution_count": 26,
   "metadata": {},
   "outputs": [],
   "source": [
    "next_state, events = emulator.apply_action(game_state, \"call\")"
   ]
  },
  {
   "cell_type": "code",
   "execution_count": 39,
   "metadata": {},
   "outputs": [],
   "source": [
    "next_state, events = emulator.apply_action(game_state, \"fold\")"
   ]
  },
  {
   "cell_type": "code",
   "execution_count": 41,
   "metadata": {},
   "outputs": [],
   "source": [
    "next_state, events = emulator.apply_action(next_state, \"call\", 100)"
   ]
  },
  {
   "cell_type": "code",
   "execution_count": 54,
   "metadata": {},
   "outputs": [
    {
     "data": {
      "text/plain": [
       "'C2'"
      ]
     },
     "execution_count": 54,
     "metadata": {},
     "output_type": "execute_result"
    }
   ],
   "source": [
    "next_state[\"table\"].seats.players[0].hole_card[0].__str__()"
   ]
  },
  {
   "cell_type": "code",
   "execution_count": null,
   "metadata": {},
   "outputs": [],
   "source": []
  }
 ],
 "metadata": {
  "kernelspec": {
   "display_name": "Python 3",
   "language": "python",
   "name": "python3"
  },
  "language_info": {
   "codemirror_mode": {
    "name": "ipython",
    "version": 3
   },
   "file_extension": ".py",
   "mimetype": "text/x-python",
   "name": "python",
   "nbconvert_exporter": "python",
   "pygments_lexer": "ipython3",
   "version": "3.8.2"
  }
 },
 "nbformat": 4,
 "nbformat_minor": 4
}
