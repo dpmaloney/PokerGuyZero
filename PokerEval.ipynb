{
 "cells": [
  {
   "cell_type": "code",
   "execution_count": 11,
   "id": "ae7b381c",
   "metadata": {},
   "outputs": [
    {
     "name": "stdout",
     "output_type": "stream",
     "text": [
      "--> Running on the CPU\n",
      "0 0model -5.93\n",
      "1 trainedabit 5.93\n"
     ]
    }
   ],
   "source": [
    "''' An example of evluating the trained models in RLCard\n",
    "'''\n",
    "import os\n",
    "import argparse\n",
    "\n",
    "import rlcard\n",
    "from rlcard.agents import DQNAgent, RandomAgent\n",
    "from rlcard.utils import get_device, set_seed, tournament\n",
    "\n",
    "def load_model(model_path, env=None, position=None, device=None):\n",
    "    if os.path.isfile(model_path):  # Torch model\n",
    "        import torch\n",
    "        agent = torch.load(model_path, map_location=device)\n",
    "        agent.set_device(device)\n",
    "    elif os.path.isdir(model_path):  # CFR model\n",
    "        from rlcard.agents import CFRAgent\n",
    "        agent = CFRAgent(env, model_path)\n",
    "        agent.load()\n",
    "    elif model_path == 'random':  # Random model\n",
    "        from rlcard.agents import RandomAgent\n",
    "        agent = RandomAgent(num_actions=env.num_actions)\n",
    "    else:  # A model in the model zoo\n",
    "        from rlcard import models\n",
    "        agent = models.load(model_path).agents[position]\n",
    "    \n",
    "    return agent\n",
    "\n",
    "def evaluate():\n",
    "\n",
    "    # Check whether gpu is available\n",
    "    device = get_device()\n",
    "        \n",
    "    # Seed numpy, torch, random\n",
    "    set_seed(42)\n",
    "\n",
    "    # Make the environment with seed\n",
    "    env = rlcard.make('no-limit-holdem', config={'seed': 42})\n",
    "\n",
    "    # Load models\n",
    "    agents = [load_model(\"50000model.pth\"), load_model(\"25000model.pth\")]\n",
    "    names = [\"0model\", \"trainedabit\"]\n",
    "    env.set_agents(agents)\n",
    "\n",
    "    # Evaluate\n",
    "    rewards = tournament(env, 200)\n",
    "    \n",
    "    for position, reward in enumerate(rewards):\n",
    "        print(position, names[position], reward)\n",
    "\n",
    "if __name__ == '__main__':\n",
    "    evaluate()\n"
   ]
  },
  {
   "cell_type": "code",
   "execution_count": null,
   "id": "6069d14d",
   "metadata": {},
   "outputs": [],
   "source": []
  }
 ],
 "metadata": {
  "kernelspec": {
   "display_name": "Python 3 (ipykernel)",
   "language": "python",
   "name": "python3"
  },
  "language_info": {
   "codemirror_mode": {
    "name": "ipython",
    "version": 3
   },
   "file_extension": ".py",
   "mimetype": "text/x-python",
   "name": "python",
   "nbconvert_exporter": "python",
   "pygments_lexer": "ipython3",
   "version": "3.8.10"
  }
 },
 "nbformat": 4,
 "nbformat_minor": 5
}
